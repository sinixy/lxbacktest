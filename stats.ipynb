{
 "cells": [
  {
   "cell_type": "code",
   "execution_count": 1,
   "metadata": {},
   "outputs": [
    {
     "name": "stderr",
     "output_type": "stream",
     "text": [
      "C:\\Users\\sinixy\\AppData\\Roaming\\Python\\Python312\\site-packages\\backtesting\\_plotting.py:53: UserWarning: Jupyter Notebook detected. Setting Bokeh output to notebook. This may not work in Jupyter clients without JavaScript support (e.g. PyCharm, Spyder IDE). Reset with `backtesting.set_bokeh_output(notebook=False)`.\n",
      "  warnings.warn('Jupyter Notebook detected. '\n"
     ]
    },
    {
     "data": {
      "text/html": [
       "    <style>\n",
       "        .bk-notebook-logo {\n",
       "            display: block;\n",
       "            width: 20px;\n",
       "            height: 20px;\n",
       "            background-image: url(data:image/png;base64,iVBORw0KGgoAAAANSUhEUgAAABQAAAAUCAYAAACNiR0NAAAABHNCSVQICAgIfAhkiAAAAAlwSFlzAAALEgAACxIB0t1+/AAAABx0RVh0U29mdHdhcmUAQWRvYmUgRmlyZXdvcmtzIENTNui8sowAAAOkSURBVDiNjZRtaJVlGMd/1/08zzln5zjP1LWcU9N0NkN8m2CYjpgQYQXqSs0I84OLIC0hkEKoPtiH3gmKoiJDU7QpLgoLjLIQCpEsNJ1vqUOdO7ppbuec5+V+rj4ctwzd8IIbbi6u+8f1539dt3A78eXC7QizUF7gyV1fD1Yqg4JWz84yffhm0qkFqBogB9rM8tZdtwVsPUhWhGcFJngGeWrPzHm5oaMmkfEg1usvLFyc8jLRqDOMru7AyC8saQr7GG7f5fvDeH7Ej8CM66nIF+8yngt6HWaKh7k49Soy9nXurCi1o3qUbS3zWfrYeQDTB/Qj6kX6Ybhw4B+bOYoLKCC9H3Nu/leUTZ1JdRWkkn2ldcCamzrcf47KKXdAJllSlxAOkRgyHsGC/zRday5Qld9DyoM4/q/rUoy/CXh3jzOu3bHUVZeU+DEn8FInkPBFlu3+nW3Nw0mk6vCDiWg8CeJaxEwuHS3+z5RgY+YBR6V1Z1nxSOfoaPa4LASWxxdNp+VWTk7+4vzaou8v8PN+xo+KY2xsw6une2frhw05CTYOmQvsEhjhWjn0bmXPjpE1+kplmmkP3suftwTubK9Vq22qKmrBhpY4jvd5afdRA3wGjFAgcnTK2s4hY0/GPNIb0nErGMCRxWOOX64Z8RAC4oCXdklmEvcL8o0BfkNK4lUg9HTl+oPlQxdNo3Mg4Nv175e/1LDGzZen30MEjRUtmXSfiTVu1kK8W4txyV6BMKlbgk3lMwYCiusNy9fVfvvwMxv8Ynl6vxoByANLTWplvuj/nF9m2+PDtt1eiHPBr1oIfhCChQMBw6Aw0UulqTKZdfVvfG7VcfIqLG9bcldL/+pdWTLxLUy8Qq38heUIjh4XlzZxzQm19lLFlr8vdQ97rjZVOLf8nclzckbcD4wxXMidpX30sFd37Fv/GtwwhzhxGVAprjbg0gCAEeIgwCZyTV2Z1REEW8O4py0wsjeloKoMr6iCY6dP92H6Vw/oTyICIthibxjm/DfN9lVz8IqtqKYLUXfoKVMVQVVJOElGjrnnUt9T9wbgp8AyYKaGlqingHZU/uG2NTZSVqwHQTWkx9hxjkpWDaCg6Ckj5qebgBVbT3V3NNXMSiWSDdGV3hrtzla7J+duwPOToIg42ChPQOQjspnSlp1V+Gjdged7+8UN5CRAV7a5EdFNwCjEaBR27b3W890TE7g24NAP/mMDXRWrGoFPQI9ls/MWO2dWFAar/xcOIImbbpA3zgAAAABJRU5ErkJggg==);\n",
       "        }\n",
       "    </style>\n",
       "    <div>\n",
       "        <a href=\"https://bokeh.org\" target=\"_blank\" class=\"bk-notebook-logo\"></a>\n",
       "        <span id=\"de10babf-6376-4452-8bcb-f8ccfe00a89e\">Loading BokehJS ...</span>\n",
       "    </div>\n"
      ]
     },
     "metadata": {},
     "output_type": "display_data"
    },
    {
     "data": {
      "application/javascript": "'use strict';\n(function(root) {\n  function now() {\n    return new Date();\n  }\n\n  const force = true;\n\n  if (typeof root._bokeh_onload_callbacks === \"undefined\" || force === true) {\n    root._bokeh_onload_callbacks = [];\n    root._bokeh_is_loading = undefined;\n  }\n\nconst JS_MIME_TYPE = 'application/javascript';\n  const HTML_MIME_TYPE = 'text/html';\n  const EXEC_MIME_TYPE = 'application/vnd.bokehjs_exec.v0+json';\n  const CLASS_NAME = 'output_bokeh rendered_html';\n\n  /**\n   * Render data to the DOM node\n   */\n  function render(props, node) {\n    const script = document.createElement(\"script\");\n    node.appendChild(script);\n  }\n\n  /**\n   * Handle when an output is cleared or removed\n   */\n  function handleClearOutput(event, handle) {\n    function drop(id) {\n      const view = Bokeh.index.get_by_id(id)\n      if (view != null) {\n        view.model.document.clear()\n        Bokeh.index.delete(view)\n      }\n    }\n\n    const cell = handle.cell;\n\n    const id = cell.output_area._bokeh_element_id;\n    const server_id = cell.output_area._bokeh_server_id;\n\n    // Clean up Bokeh references\n    if (id != null) {\n      drop(id)\n    }\n\n    if (server_id !== undefined) {\n      // Clean up Bokeh references\n      const cmd_clean = \"from bokeh.io.state import curstate; print(curstate().uuid_to_server['\" + server_id + \"'].get_sessions()[0].document.roots[0]._id)\";\n      cell.notebook.kernel.execute(cmd_clean, {\n        iopub: {\n          output: function(msg) {\n            const id = msg.content.text.trim()\n            drop(id)\n          }\n        }\n      });\n      // Destroy server and session\n      const cmd_destroy = \"import bokeh.io.notebook as ion; ion.destroy_server('\" + server_id + \"')\";\n      cell.notebook.kernel.execute(cmd_destroy);\n    }\n  }\n\n  /**\n   * Handle when a new output is added\n   */\n  function handleAddOutput(event, handle) {\n    const output_area = handle.output_area;\n    const output = handle.output;\n\n    // limit handleAddOutput to display_data with EXEC_MIME_TYPE content only\n    if ((output.output_type != \"display_data\") || (!Object.prototype.hasOwnProperty.call(output.data, EXEC_MIME_TYPE))) {\n      return\n    }\n\n    const toinsert = output_area.element.find(\".\" + CLASS_NAME.split(' ')[0]);\n\n    if (output.metadata[EXEC_MIME_TYPE][\"id\"] !== undefined) {\n      toinsert[toinsert.length - 1].firstChild.textContent = output.data[JS_MIME_TYPE];\n      // store reference to embed id on output_area\n      output_area._bokeh_element_id = output.metadata[EXEC_MIME_TYPE][\"id\"];\n    }\n    if (output.metadata[EXEC_MIME_TYPE][\"server_id\"] !== undefined) {\n      const bk_div = document.createElement(\"div\");\n      bk_div.innerHTML = output.data[HTML_MIME_TYPE];\n      const script_attrs = bk_div.children[0].attributes;\n      for (let i = 0; i < script_attrs.length; i++) {\n        toinsert[toinsert.length - 1].firstChild.setAttribute(script_attrs[i].name, script_attrs[i].value);\n        toinsert[toinsert.length - 1].firstChild.textContent = bk_div.children[0].textContent\n      }\n      // store reference to server id on output_area\n      output_area._bokeh_server_id = output.metadata[EXEC_MIME_TYPE][\"server_id\"];\n    }\n  }\n\n  function register_renderer(events, OutputArea) {\n\n    function append_mime(data, metadata, element) {\n      // create a DOM node to render to\n      const toinsert = this.create_output_subarea(\n        metadata,\n        CLASS_NAME,\n        EXEC_MIME_TYPE\n      );\n      this.keyboard_manager.register_events(toinsert);\n      // Render to node\n      const props = {data: data, metadata: metadata[EXEC_MIME_TYPE]};\n      render(props, toinsert[toinsert.length - 1]);\n      element.append(toinsert);\n      return toinsert\n    }\n\n    /* Handle when an output is cleared or removed */\n    events.on('clear_output.CodeCell', handleClearOutput);\n    events.on('delete.Cell', handleClearOutput);\n\n    /* Handle when a new output is added */\n    events.on('output_added.OutputArea', handleAddOutput);\n\n    /**\n     * Register the mime type and append_mime function with output_area\n     */\n    OutputArea.prototype.register_mime_type(EXEC_MIME_TYPE, append_mime, {\n      /* Is output safe? */\n      safe: true,\n      /* Index of renderer in `output_area.display_order` */\n      index: 0\n    });\n  }\n\n  // register the mime type if in Jupyter Notebook environment and previously unregistered\n  if (root.Jupyter !== undefined) {\n    const events = require('base/js/events');\n    const OutputArea = require('notebook/js/outputarea').OutputArea;\n\n    if (OutputArea.prototype.mime_types().indexOf(EXEC_MIME_TYPE) == -1) {\n      register_renderer(events, OutputArea);\n    }\n  }\n  if (typeof (root._bokeh_timeout) === \"undefined\" || force === true) {\n    root._bokeh_timeout = Date.now() + 5000;\n    root._bokeh_failed_load = false;\n  }\n\n  const NB_LOAD_WARNING = {'data': {'text/html':\n     \"<div style='background-color: #fdd'>\\n\"+\n     \"<p>\\n\"+\n     \"BokehJS does not appear to have successfully loaded. If loading BokehJS from CDN, this \\n\"+\n     \"may be due to a slow or bad network connection. Possible fixes:\\n\"+\n     \"</p>\\n\"+\n     \"<ul>\\n\"+\n     \"<li>re-rerun `output_notebook()` to attempt to load from CDN again, or</li>\\n\"+\n     \"<li>use INLINE resources instead, as so:</li>\\n\"+\n     \"</ul>\\n\"+\n     \"<code>\\n\"+\n     \"from bokeh.resources import INLINE\\n\"+\n     \"output_notebook(resources=INLINE)\\n\"+\n     \"</code>\\n\"+\n     \"</div>\"}};\n\n  function display_loaded(error = null) {\n    const el = document.getElementById(\"de10babf-6376-4452-8bcb-f8ccfe00a89e\");\n    if (el != null) {\n      const html = (() => {\n        if (typeof root.Bokeh === \"undefined\") {\n          if (error == null) {\n            return \"BokehJS is loading ...\";\n          } else {\n            return \"BokehJS failed to load.\";\n          }\n        } else {\n          const prefix = `BokehJS ${root.Bokeh.version}`;\n          if (error == null) {\n            return `${prefix} successfully loaded.`;\n          } else {\n            return `${prefix} <b>encountered errors</b> while loading and may not function as expected.`;\n          }\n        }\n      })();\n      el.innerHTML = html;\n\n      if (error != null) {\n        const wrapper = document.createElement(\"div\");\n        wrapper.style.overflow = \"auto\";\n        wrapper.style.height = \"5em\";\n        wrapper.style.resize = \"vertical\";\n        const content = document.createElement(\"div\");\n        content.style.fontFamily = \"monospace\";\n        content.style.whiteSpace = \"pre-wrap\";\n        content.style.backgroundColor = \"rgb(255, 221, 221)\";\n        content.textContent = error.stack ?? error.toString();\n        wrapper.append(content);\n        el.append(wrapper);\n      }\n    } else if (Date.now() < root._bokeh_timeout) {\n      setTimeout(() => display_loaded(error), 100);\n    }\n  }\n\n  function run_callbacks() {\n    try {\n      root._bokeh_onload_callbacks.forEach(function(callback) {\n        if (callback != null)\n          callback();\n      });\n    } finally {\n      delete root._bokeh_onload_callbacks\n    }\n    console.debug(\"Bokeh: all callbacks have finished\");\n  }\n\n  function load_libs(css_urls, js_urls, callback) {\n    if (css_urls == null) css_urls = [];\n    if (js_urls == null) js_urls = [];\n\n    root._bokeh_onload_callbacks.push(callback);\n    if (root._bokeh_is_loading > 0) {\n      console.debug(\"Bokeh: BokehJS is being loaded, scheduling callback at\", now());\n      return null;\n    }\n    if (js_urls == null || js_urls.length === 0) {\n      run_callbacks();\n      return null;\n    }\n    console.debug(\"Bokeh: BokehJS not loaded, scheduling load and callback at\", now());\n    root._bokeh_is_loading = css_urls.length + js_urls.length;\n\n    function on_load() {\n      root._bokeh_is_loading--;\n      if (root._bokeh_is_loading === 0) {\n        console.debug(\"Bokeh: all BokehJS libraries/stylesheets loaded\");\n        run_callbacks()\n      }\n    }\n\n    function on_error(url) {\n      console.error(\"failed to load \" + url);\n    }\n\n    for (let i = 0; i < css_urls.length; i++) {\n      const url = css_urls[i];\n      const element = document.createElement(\"link\");\n      element.onload = on_load;\n      element.onerror = on_error.bind(null, url);\n      element.rel = \"stylesheet\";\n      element.type = \"text/css\";\n      element.href = url;\n      console.debug(\"Bokeh: injecting link tag for BokehJS stylesheet: \", url);\n      document.body.appendChild(element);\n    }\n\n    for (let i = 0; i < js_urls.length; i++) {\n      const url = js_urls[i];\n      const element = document.createElement('script');\n      element.onload = on_load;\n      element.onerror = on_error.bind(null, url);\n      element.async = false;\n      element.src = url;\n      console.debug(\"Bokeh: injecting script tag for BokehJS library: \", url);\n      document.head.appendChild(element);\n    }\n  };\n\n  function inject_raw_css(css) {\n    const element = document.createElement(\"style\");\n    element.appendChild(document.createTextNode(css));\n    document.body.appendChild(element);\n  }\n\n  const js_urls = [\"https://cdn.bokeh.org/bokeh/release/bokeh-3.6.3.min.js\", \"https://cdn.bokeh.org/bokeh/release/bokeh-gl-3.6.3.min.js\", \"https://cdn.bokeh.org/bokeh/release/bokeh-widgets-3.6.3.min.js\", \"https://cdn.bokeh.org/bokeh/release/bokeh-tables-3.6.3.min.js\", \"https://cdn.bokeh.org/bokeh/release/bokeh-mathjax-3.6.3.min.js\"];\n  const css_urls = [];\n\n  const inline_js = [    function(Bokeh) {\n      Bokeh.set_log_level(\"info\");\n    },\nfunction(Bokeh) {\n    }\n  ];\n\n  function run_inline_js() {\n    if (root.Bokeh !== undefined || force === true) {\n      try {\n            for (let i = 0; i < inline_js.length; i++) {\n      inline_js[i].call(root, root.Bokeh);\n    }\n\n      } catch (error) {display_loaded(error);throw error;\n      }if (force === true) {\n        display_loaded();\n      }} else if (Date.now() < root._bokeh_timeout) {\n      setTimeout(run_inline_js, 100);\n    } else if (!root._bokeh_failed_load) {\n      console.log(\"Bokeh: BokehJS failed to load within specified timeout.\");\n      root._bokeh_failed_load = true;\n    } else if (force !== true) {\n      const cell = $(document.getElementById(\"de10babf-6376-4452-8bcb-f8ccfe00a89e\")).parents('.cell').data().cell;\n      cell.output_area.append_execute_result(NB_LOAD_WARNING)\n    }\n  }\n\n  if (root._bokeh_is_loading === 0) {\n    console.debug(\"Bokeh: BokehJS loaded, going straight to plotting\");\n    run_inline_js();\n  } else {\n    load_libs(css_urls, js_urls, function() {\n      console.debug(\"Bokeh: BokehJS plotting callback run at\", now());\n      run_inline_js();\n    });\n  }\n}(window));",
      "application/vnd.bokehjs_load.v0+json": ""
     },
     "metadata": {},
     "output_type": "display_data"
    },
    {
     "name": "stderr",
     "output_type": "stream",
     "text": [
      "C:\\Users\\sinixy\\AppData\\Roaming\\Python\\Python312\\site-packages\\tqdm\\auto.py:21: TqdmWarning: IProgress not found. Please update jupyter and ipywidgets. See https://ipywidgets.readthedocs.io/en/stable/user_install.html\n",
      "  from .autonotebook import tqdm as notebook_tqdm\n"
     ]
    }
   ],
   "source": [
    "import json\n",
    "import os\n",
    "from tqdm import tqdm\n",
    "from datetime import datetime, date, timedelta\n",
    "from itertools import product\n",
    "from dataclasses import dataclass\n",
    "from pathlib import Path\n",
    "import pandas as pd\n",
    "import plotly.graph_objects as go\n",
    "pd.options.plotting.backend = \"plotly\"\n",
    "\n",
    "from utils import load_by_stats\n",
    "from plot import plot\n",
    "from strategies.momopump import SimplePumpDaily_Fibo, SimplePumpDaily_CCPRC, SimplePumpDaily_CC, SimplePumpDaily_OC, SimplePumpDaily_OCPRC"
   ]
  },
  {
   "cell_type": "code",
   "execution_count": 11,
   "metadata": {},
   "outputs": [],
   "source": [
    "tdir = 'data/trades-simplepump-ccprc-1'\n",
    "strat = SimplePumpDaily_CCPRC"
   ]
  },
  {
   "cell_type": "code",
   "execution_count": 12,
   "metadata": {},
   "outputs": [],
   "source": [
    "def plot_by_stats(stats: pd.DataFrame, index: int):\n",
    "    s = stats.iloc[[index]].to_dict('records')[0]\n",
    "    if s['day_net_change'] == 1.0:\n",
    "        s['day_net_change'] = 1\n",
    "    df = load_by_stats(s, tdir + '/extended', strat.pars())\n",
    "    return plot(df)"
   ]
  },
  {
   "cell_type": "code",
   "execution_count": 14,
   "metadata": {},
   "outputs": [
    {
     "data": {
      "text/html": [
       "<div>\n",
       "<style scoped>\n",
       "    .dataframe tbody tr th:only-of-type {\n",
       "        vertical-align: middle;\n",
       "    }\n",
       "\n",
       "    .dataframe tbody tr th {\n",
       "        vertical-align: top;\n",
       "    }\n",
       "\n",
       "    .dataframe thead th {\n",
       "        text-align: right;\n",
       "    }\n",
       "</style>\n",
       "<table border=\"1\" class=\"dataframe\">\n",
       "  <thead>\n",
       "    <tr style=\"text-align: right;\">\n",
       "      <th></th>\n",
       "      <th>day_net_change</th>\n",
       "      <th>rvol</th>\n",
       "      <th>pullback</th>\n",
       "      <th>sl_prc</th>\n",
       "      <th>reward</th>\n",
       "      <th>PnL</th>\n",
       "      <th>NetPnL</th>\n",
       "      <th>winrate</th>\n",
       "      <th>total_trades</th>\n",
       "      <th>total_volume</th>\n",
       "      <th>...</th>\n",
       "      <th>std_profit</th>\n",
       "      <th>std_loss</th>\n",
       "      <th>avg_profit</th>\n",
       "      <th>avg_loss</th>\n",
       "      <th>avg_day_profit</th>\n",
       "      <th>std_day_profit</th>\n",
       "      <th>cagr</th>\n",
       "      <th>sharpe</th>\n",
       "      <th>ulcer</th>\n",
       "      <th>score</th>\n",
       "    </tr>\n",
       "  </thead>\n",
       "  <tbody>\n",
       "    <tr>\n",
       "      <th>0</th>\n",
       "      <td>0.2</td>\n",
       "      <td>10</td>\n",
       "      <td>0.1</td>\n",
       "      <td>0.1</td>\n",
       "      <td>1</td>\n",
       "      <td>-8848.5100</td>\n",
       "      <td>-9887.3520</td>\n",
       "      <td>0.241176</td>\n",
       "      <td>170</td>\n",
       "      <td>74203</td>\n",
       "      <td>...</td>\n",
       "      <td>32.248920</td>\n",
       "      <td>15.329221</td>\n",
       "      <td>85.113195</td>\n",
       "      <td>-96.391805</td>\n",
       "      <td>-3.617543</td>\n",
       "      <td>24.713331</td>\n",
       "      <td>0.960485</td>\n",
       "      <td>7.189834</td>\n",
       "      <td>17253.015336</td>\n",
       "      <td>0.000400</td>\n",
       "    </tr>\n",
       "    <tr>\n",
       "      <th>1</th>\n",
       "      <td>0.2</td>\n",
       "      <td>10</td>\n",
       "      <td>0.1</td>\n",
       "      <td>0.1</td>\n",
       "      <td>10</td>\n",
       "      <td>-4707.1103</td>\n",
       "      <td>-5724.9803</td>\n",
       "      <td>0.206061</td>\n",
       "      <td>165</td>\n",
       "      <td>72705</td>\n",
       "      <td>...</td>\n",
       "      <td>321.892293</td>\n",
       "      <td>18.517883</td>\n",
       "      <td>221.270197</td>\n",
       "      <td>-94.079208</td>\n",
       "      <td>-1.924411</td>\n",
       "      <td>50.682197</td>\n",
       "      <td>0.806853</td>\n",
       "      <td>-4.073136</td>\n",
       "      <td>421.957246</td>\n",
       "      <td>-0.007789</td>\n",
       "    </tr>\n",
       "    <tr>\n",
       "      <th>2</th>\n",
       "      <td>0.2</td>\n",
       "      <td>10</td>\n",
       "      <td>0.1</td>\n",
       "      <td>0.1</td>\n",
       "      <td>2</td>\n",
       "      <td>-7167.1223</td>\n",
       "      <td>-8205.9643</td>\n",
       "      <td>0.223529</td>\n",
       "      <td>170</td>\n",
       "      <td>74203</td>\n",
       "      <td>...</td>\n",
       "      <td>80.691685</td>\n",
       "      <td>17.112950</td>\n",
       "      <td>139.674439</td>\n",
       "      <td>-95.227107</td>\n",
       "      <td>-2.930140</td>\n",
       "      <td>29.480922</td>\n",
       "      <td>0.906663</td>\n",
       "      <td>5.365797</td>\n",
       "      <td>2971.860854</td>\n",
       "      <td>0.001637</td>\n",
       "    </tr>\n",
       "    <tr>\n",
       "      <th>3</th>\n",
       "      <td>0.2</td>\n",
       "      <td>10</td>\n",
       "      <td>0.1</td>\n",
       "      <td>0.1</td>\n",
       "      <td>3</td>\n",
       "      <td>-6145.8793</td>\n",
       "      <td>-7184.7213</td>\n",
       "      <td>0.217647</td>\n",
       "      <td>170</td>\n",
       "      <td>74203</td>\n",
       "      <td>...</td>\n",
       "      <td>124.820310</td>\n",
       "      <td>17.396732</td>\n",
       "      <td>172.547343</td>\n",
       "      <td>-94.925235</td>\n",
       "      <td>-2.512624</td>\n",
       "      <td>34.184071</td>\n",
       "      <td>0.869191</td>\n",
       "      <td>7.057220</td>\n",
       "      <td>1704.012137</td>\n",
       "      <td>0.003600</td>\n",
       "    </tr>\n",
       "    <tr>\n",
       "      <th>4</th>\n",
       "      <td>0.2</td>\n",
       "      <td>10</td>\n",
       "      <td>0.1</td>\n",
       "      <td>0.1</td>\n",
       "      <td>4</td>\n",
       "      <td>-5940.4243</td>\n",
       "      <td>-6979.2663</td>\n",
       "      <td>0.217647</td>\n",
       "      <td>170</td>\n",
       "      <td>74203</td>\n",
       "      <td>...</td>\n",
       "      <td>165.791483</td>\n",
       "      <td>17.396732</td>\n",
       "      <td>178.100181</td>\n",
       "      <td>-94.925235</td>\n",
       "      <td>-2.428628</td>\n",
       "      <td>36.953557</td>\n",
       "      <td>0.861110</td>\n",
       "      <td>3.275177</td>\n",
       "      <td>1373.639164</td>\n",
       "      <td>0.002053</td>\n",
       "    </tr>\n",
       "    <tr>\n",
       "      <th>...</th>\n",
       "      <td>...</td>\n",
       "      <td>...</td>\n",
       "      <td>...</td>\n",
       "      <td>...</td>\n",
       "      <td>...</td>\n",
       "      <td>...</td>\n",
       "      <td>...</td>\n",
       "      <td>...</td>\n",
       "      <td>...</td>\n",
       "      <td>...</td>\n",
       "      <td>...</td>\n",
       "      <td>...</td>\n",
       "      <td>...</td>\n",
       "      <td>...</td>\n",
       "      <td>...</td>\n",
       "      <td>...</td>\n",
       "      <td>...</td>\n",
       "      <td>...</td>\n",
       "      <td>...</td>\n",
       "      <td>...</td>\n",
       "      <td>...</td>\n",
       "    </tr>\n",
       "    <tr>\n",
       "      <th>7195</th>\n",
       "      <td>1.0</td>\n",
       "      <td>7</td>\n",
       "      <td>0.6</td>\n",
       "      <td>0.5</td>\n",
       "      <td>3</td>\n",
       "      <td>-69997.9078</td>\n",
       "      <td>-78009.7858</td>\n",
       "      <td>0.257056</td>\n",
       "      <td>992</td>\n",
       "      <td>572277</td>\n",
       "      <td>...</td>\n",
       "      <td>469.283647</td>\n",
       "      <td>139.193270</td>\n",
       "      <td>356.592469</td>\n",
       "      <td>-220.149094</td>\n",
       "      <td>-28.617297</td>\n",
       "      <td>248.933382</td>\n",
       "      <td>1.334663</td>\n",
       "      <td>3.606846</td>\n",
       "      <td>19268.847640</td>\n",
       "      <td>0.000250</td>\n",
       "    </tr>\n",
       "    <tr>\n",
       "      <th>7196</th>\n",
       "      <td>1.0</td>\n",
       "      <td>7</td>\n",
       "      <td>0.6</td>\n",
       "      <td>0.5</td>\n",
       "      <td>4</td>\n",
       "      <td>-64414.4413</td>\n",
       "      <td>-72368.7373</td>\n",
       "      <td>0.257932</td>\n",
       "      <td>977</td>\n",
       "      <td>568164</td>\n",
       "      <td>...</td>\n",
       "      <td>541.754436</td>\n",
       "      <td>139.119269</td>\n",
       "      <td>368.047961</td>\n",
       "      <td>-218.584878</td>\n",
       "      <td>-26.334604</td>\n",
       "      <td>262.004527</td>\n",
       "      <td>1.308638</td>\n",
       "      <td>3.389142</td>\n",
       "      <td>17375.399302</td>\n",
       "      <td>0.000255</td>\n",
       "    </tr>\n",
       "    <tr>\n",
       "      <th>7197</th>\n",
       "      <td>1.0</td>\n",
       "      <td>7</td>\n",
       "      <td>0.6</td>\n",
       "      <td>0.5</td>\n",
       "      <td>5</td>\n",
       "      <td>-59767.3946</td>\n",
       "      <td>-67591.4486</td>\n",
       "      <td>0.259336</td>\n",
       "      <td>964</td>\n",
       "      <td>558861</td>\n",
       "      <td>...</td>\n",
       "      <td>605.559520</td>\n",
       "      <td>139.189458</td>\n",
       "      <td>378.310416</td>\n",
       "      <td>-218.001411</td>\n",
       "      <td>-24.434748</td>\n",
       "      <td>274.398951</td>\n",
       "      <td>1.285211</td>\n",
       "      <td>2.872524</td>\n",
       "      <td>16002.073523</td>\n",
       "      <td>0.000231</td>\n",
       "    </tr>\n",
       "    <tr>\n",
       "      <th>7198</th>\n",
       "      <td>1.0</td>\n",
       "      <td>7</td>\n",
       "      <td>0.6</td>\n",
       "      <td>0.5</td>\n",
       "      <td>6</td>\n",
       "      <td>-58301.4456</td>\n",
       "      <td>-66082.9256</td>\n",
       "      <td>0.257560</td>\n",
       "      <td>959</td>\n",
       "      <td>555820</td>\n",
       "      <td>...</td>\n",
       "      <td>670.516924</td>\n",
       "      <td>139.339858</td>\n",
       "      <td>386.543984</td>\n",
       "      <td>-217.815594</td>\n",
       "      <td>-23.835423</td>\n",
       "      <td>286.015606</td>\n",
       "      <td>1.277521</td>\n",
       "      <td>3.186714</td>\n",
       "      <td>15563.654150</td>\n",
       "      <td>0.000262</td>\n",
       "    </tr>\n",
       "    <tr>\n",
       "      <th>7199</th>\n",
       "      <td>1.0</td>\n",
       "      <td>7</td>\n",
       "      <td>0.6</td>\n",
       "      <td>0.5</td>\n",
       "      <td>8</td>\n",
       "      <td>-64098.5956</td>\n",
       "      <td>-71863.0236</td>\n",
       "      <td>0.256303</td>\n",
       "      <td>952</td>\n",
       "      <td>554602</td>\n",
       "      <td>...</td>\n",
       "      <td>681.162773</td>\n",
       "      <td>139.473318</td>\n",
       "      <td>363.808050</td>\n",
       "      <td>-217.760341</td>\n",
       "      <td>-26.205477</td>\n",
       "      <td>283.331616</td>\n",
       "      <td>1.306221</td>\n",
       "      <td>3.440643</td>\n",
       "      <td>16986.840207</td>\n",
       "      <td>0.000265</td>\n",
       "    </tr>\n",
       "  </tbody>\n",
       "</table>\n",
       "<p>7200 rows × 24 columns</p>\n",
       "</div>"
      ],
      "text/plain": [
       "      day_net_change  rvol  pullback  sl_prc  reward         PnL      NetPnL  \\\n",
       "0                0.2    10       0.1     0.1       1  -8848.5100  -9887.3520   \n",
       "1                0.2    10       0.1     0.1      10  -4707.1103  -5724.9803   \n",
       "2                0.2    10       0.1     0.1       2  -7167.1223  -8205.9643   \n",
       "3                0.2    10       0.1     0.1       3  -6145.8793  -7184.7213   \n",
       "4                0.2    10       0.1     0.1       4  -5940.4243  -6979.2663   \n",
       "...              ...   ...       ...     ...     ...         ...         ...   \n",
       "7195             1.0     7       0.6     0.5       3 -69997.9078 -78009.7858   \n",
       "7196             1.0     7       0.6     0.5       4 -64414.4413 -72368.7373   \n",
       "7197             1.0     7       0.6     0.5       5 -59767.3946 -67591.4486   \n",
       "7198             1.0     7       0.6     0.5       6 -58301.4456 -66082.9256   \n",
       "7199             1.0     7       0.6     0.5       8 -64098.5956 -71863.0236   \n",
       "\n",
       "       winrate  total_trades  total_volume  ...  std_profit    std_loss  \\\n",
       "0     0.241176           170         74203  ...   32.248920   15.329221   \n",
       "1     0.206061           165         72705  ...  321.892293   18.517883   \n",
       "2     0.223529           170         74203  ...   80.691685   17.112950   \n",
       "3     0.217647           170         74203  ...  124.820310   17.396732   \n",
       "4     0.217647           170         74203  ...  165.791483   17.396732   \n",
       "...        ...           ...           ...  ...         ...         ...   \n",
       "7195  0.257056           992        572277  ...  469.283647  139.193270   \n",
       "7196  0.257932           977        568164  ...  541.754436  139.119269   \n",
       "7197  0.259336           964        558861  ...  605.559520  139.189458   \n",
       "7198  0.257560           959        555820  ...  670.516924  139.339858   \n",
       "7199  0.256303           952        554602  ...  681.162773  139.473318   \n",
       "\n",
       "      avg_profit    avg_loss  avg_day_profit  std_day_profit      cagr  \\\n",
       "0      85.113195  -96.391805       -3.617543       24.713331  0.960485   \n",
       "1     221.270197  -94.079208       -1.924411       50.682197  0.806853   \n",
       "2     139.674439  -95.227107       -2.930140       29.480922  0.906663   \n",
       "3     172.547343  -94.925235       -2.512624       34.184071  0.869191   \n",
       "4     178.100181  -94.925235       -2.428628       36.953557  0.861110   \n",
       "...          ...         ...             ...             ...       ...   \n",
       "7195  356.592469 -220.149094      -28.617297      248.933382  1.334663   \n",
       "7196  368.047961 -218.584878      -26.334604      262.004527  1.308638   \n",
       "7197  378.310416 -218.001411      -24.434748      274.398951  1.285211   \n",
       "7198  386.543984 -217.815594      -23.835423      286.015606  1.277521   \n",
       "7199  363.808050 -217.760341      -26.205477      283.331616  1.306221   \n",
       "\n",
       "        sharpe         ulcer     score  \n",
       "0     7.189834  17253.015336  0.000400  \n",
       "1    -4.073136    421.957246 -0.007789  \n",
       "2     5.365797   2971.860854  0.001637  \n",
       "3     7.057220   1704.012137  0.003600  \n",
       "4     3.275177   1373.639164  0.002053  \n",
       "...        ...           ...       ...  \n",
       "7195  3.606846  19268.847640  0.000250  \n",
       "7196  3.389142  17375.399302  0.000255  \n",
       "7197  2.872524  16002.073523  0.000231  \n",
       "7198  3.186714  15563.654150  0.000262  \n",
       "7199  3.440643  16986.840207  0.000265  \n",
       "\n",
       "[7200 rows x 24 columns]"
      ]
     },
     "execution_count": 14,
     "metadata": {},
     "output_type": "execute_result"
    }
   ],
   "source": [
    "stats = pd.read_csv(tdir + '/stats.csv')\n",
    "#stats['fibo'] = stats['fibo'].astype('int64')\n",
    "stats['reward'] = stats['reward'].astype('int64')\n",
    "stats['rvol'] = stats['rvol'].astype('int64')\n",
    "stats"
   ]
  },
  {
   "cell_type": "code",
   "execution_count": 15,
   "metadata": {},
   "outputs": [
    {
     "data": {
      "text/html": [
       "<div>\n",
       "<style scoped>\n",
       "    .dataframe tbody tr th:only-of-type {\n",
       "        vertical-align: middle;\n",
       "    }\n",
       "\n",
       "    .dataframe tbody tr th {\n",
       "        vertical-align: top;\n",
       "    }\n",
       "\n",
       "    .dataframe thead th {\n",
       "        text-align: right;\n",
       "    }\n",
       "</style>\n",
       "<table border=\"1\" class=\"dataframe\">\n",
       "  <thead>\n",
       "    <tr style=\"text-align: right;\">\n",
       "      <th></th>\n",
       "      <th>day_net_change</th>\n",
       "      <th>rvol</th>\n",
       "      <th>pullback</th>\n",
       "      <th>sl_prc</th>\n",
       "      <th>reward</th>\n",
       "      <th>PnL</th>\n",
       "      <th>NetPnL</th>\n",
       "      <th>winrate</th>\n",
       "      <th>total_trades</th>\n",
       "      <th>total_volume</th>\n",
       "      <th>...</th>\n",
       "      <th>std_profit</th>\n",
       "      <th>std_loss</th>\n",
       "      <th>avg_profit</th>\n",
       "      <th>avg_loss</th>\n",
       "      <th>avg_day_profit</th>\n",
       "      <th>std_day_profit</th>\n",
       "      <th>cagr</th>\n",
       "      <th>sharpe</th>\n",
       "      <th>ulcer</th>\n",
       "      <th>score</th>\n",
       "    </tr>\n",
       "  </thead>\n",
       "  <tbody>\n",
       "    <tr>\n",
       "      <th>4814</th>\n",
       "      <td>0.75</td>\n",
       "      <td>10</td>\n",
       "      <td>0.1</td>\n",
       "      <td>0.2</td>\n",
       "      <td>6</td>\n",
       "      <td>845.2809</td>\n",
       "      <td>375.0489</td>\n",
       "      <td>0.275000</td>\n",
       "      <td>80</td>\n",
       "      <td>33588</td>\n",
       "      <td>...</td>\n",
       "      <td>494.044102</td>\n",
       "      <td>46.585715</td>\n",
       "      <td>496.924545</td>\n",
       "      <td>-176.965949</td>\n",
       "      <td>0.348857</td>\n",
       "      <td>71.675528</td>\n",
       "      <td>0.0</td>\n",
       "      <td>5.503406</td>\n",
       "      <td>66.034890</td>\n",
       "      <td>0.0</td>\n",
       "    </tr>\n",
       "    <tr>\n",
       "      <th>6981</th>\n",
       "      <td>1.00</td>\n",
       "      <td>7</td>\n",
       "      <td>0.1</td>\n",
       "      <td>0.3</td>\n",
       "      <td>5</td>\n",
       "      <td>2256.8515</td>\n",
       "      <td>1782.2375</td>\n",
       "      <td>0.294872</td>\n",
       "      <td>78</td>\n",
       "      <td>33901</td>\n",
       "      <td>...</td>\n",
       "      <td>603.589891</td>\n",
       "      <td>107.019638</td>\n",
       "      <td>592.934370</td>\n",
       "      <td>-210.752574</td>\n",
       "      <td>0.928363</td>\n",
       "      <td>90.318139</td>\n",
       "      <td>0.0</td>\n",
       "      <td>5.555871</td>\n",
       "      <td>470.138250</td>\n",
       "      <td>0.0</td>\n",
       "    </tr>\n",
       "    <tr>\n",
       "      <th>6753</th>\n",
       "      <td>1.00</td>\n",
       "      <td>5</td>\n",
       "      <td>0.1</td>\n",
       "      <td>0.5</td>\n",
       "      <td>10</td>\n",
       "      <td>1142.2071</td>\n",
       "      <td>518.3251</td>\n",
       "      <td>0.275862</td>\n",
       "      <td>87</td>\n",
       "      <td>44563</td>\n",
       "      <td>...</td>\n",
       "      <td>1368.134680</td>\n",
       "      <td>159.993131</td>\n",
       "      <td>692.583400</td>\n",
       "      <td>-249.674105</td>\n",
       "      <td>0.469851</td>\n",
       "      <td>157.423880</td>\n",
       "      <td>0.0</td>\n",
       "      <td>0.738293</td>\n",
       "      <td>534.096112</td>\n",
       "      <td>0.0</td>\n",
       "    </tr>\n",
       "    <tr>\n",
       "      <th>6761</th>\n",
       "      <td>1.00</td>\n",
       "      <td>5</td>\n",
       "      <td>0.2</td>\n",
       "      <td>0.1</td>\n",
       "      <td>10</td>\n",
       "      <td>3254.0004</td>\n",
       "      <td>1519.5404</td>\n",
       "      <td>0.173745</td>\n",
       "      <td>259</td>\n",
       "      <td>123890</td>\n",
       "      <td>...</td>\n",
       "      <td>427.269267</td>\n",
       "      <td>12.006016</td>\n",
       "      <td>533.675778</td>\n",
       "      <td>-97.471407</td>\n",
       "      <td>1.330335</td>\n",
       "      <td>97.364653</td>\n",
       "      <td>0.0</td>\n",
       "      <td>-6.291470</td>\n",
       "      <td>95.551247</td>\n",
       "      <td>-0.0</td>\n",
       "    </tr>\n",
       "    <tr>\n",
       "      <th>6769</th>\n",
       "      <td>1.00</td>\n",
       "      <td>5</td>\n",
       "      <td>0.2</td>\n",
       "      <td>0.2</td>\n",
       "      <td>10</td>\n",
       "      <td>2149.2703</td>\n",
       "      <td>730.0763</td>\n",
       "      <td>0.261603</td>\n",
       "      <td>237</td>\n",
       "      <td>101371</td>\n",
       "      <td>...</td>\n",
       "      <td>651.219973</td>\n",
       "      <td>50.961313</td>\n",
       "      <td>524.011800</td>\n",
       "      <td>-176.392217</td>\n",
       "      <td>0.879047</td>\n",
       "      <td>141.820346</td>\n",
       "      <td>0.0</td>\n",
       "      <td>1.458389</td>\n",
       "      <td>264.100762</td>\n",
       "      <td>0.0</td>\n",
       "    </tr>\n",
       "    <tr>\n",
       "      <th>...</th>\n",
       "      <td>...</td>\n",
       "      <td>...</td>\n",
       "      <td>...</td>\n",
       "      <td>...</td>\n",
       "      <td>...</td>\n",
       "      <td>...</td>\n",
       "      <td>...</td>\n",
       "      <td>...</td>\n",
       "      <td>...</td>\n",
       "      <td>...</td>\n",
       "      <td>...</td>\n",
       "      <td>...</td>\n",
       "      <td>...</td>\n",
       "      <td>...</td>\n",
       "      <td>...</td>\n",
       "      <td>...</td>\n",
       "      <td>...</td>\n",
       "      <td>...</td>\n",
       "      <td>...</td>\n",
       "      <td>...</td>\n",
       "      <td>...</td>\n",
       "    </tr>\n",
       "    <tr>\n",
       "      <th>6310</th>\n",
       "      <td>1.00</td>\n",
       "      <td>3</td>\n",
       "      <td>0.2</td>\n",
       "      <td>0.4</td>\n",
       "      <td>6</td>\n",
       "      <td>2478.7442</td>\n",
       "      <td>314.9042</td>\n",
       "      <td>0.325926</td>\n",
       "      <td>270</td>\n",
       "      <td>154560</td>\n",
       "      <td>...</td>\n",
       "      <td>718.002210</td>\n",
       "      <td>128.503140</td>\n",
       "      <td>525.873560</td>\n",
       "      <td>-244.682285</td>\n",
       "      <td>1.013801</td>\n",
       "      <td>189.664093</td>\n",
       "      <td>0.0</td>\n",
       "      <td>-6.896314</td>\n",
       "      <td>168.051745</td>\n",
       "      <td>-0.0</td>\n",
       "    </tr>\n",
       "    <tr>\n",
       "      <th>6311</th>\n",
       "      <td>1.00</td>\n",
       "      <td>3</td>\n",
       "      <td>0.2</td>\n",
       "      <td>0.4</td>\n",
       "      <td>8</td>\n",
       "      <td>9158.5202</td>\n",
       "      <td>6998.2642</td>\n",
       "      <td>0.327138</td>\n",
       "      <td>269</td>\n",
       "      <td>154304</td>\n",
       "      <td>...</td>\n",
       "      <td>918.516012</td>\n",
       "      <td>128.821780</td>\n",
       "      <td>598.492833</td>\n",
       "      <td>-244.431737</td>\n",
       "      <td>3.745816</td>\n",
       "      <td>224.749019</td>\n",
       "      <td>0.0</td>\n",
       "      <td>2.128856</td>\n",
       "      <td>157.188661</td>\n",
       "      <td>0.0</td>\n",
       "    </tr>\n",
       "    <tr>\n",
       "      <th>6313</th>\n",
       "      <td>1.00</td>\n",
       "      <td>3</td>\n",
       "      <td>0.2</td>\n",
       "      <td>0.5</td>\n",
       "      <td>10</td>\n",
       "      <td>3347.1711</td>\n",
       "      <td>1199.1931</td>\n",
       "      <td>0.323308</td>\n",
       "      <td>266</td>\n",
       "      <td>153427</td>\n",
       "      <td>...</td>\n",
       "      <td>981.603187</td>\n",
       "      <td>146.932210</td>\n",
       "      <td>560.175410</td>\n",
       "      <td>-253.265052</td>\n",
       "      <td>1.368986</td>\n",
       "      <td>229.465070</td>\n",
       "      <td>0.0</td>\n",
       "      <td>-3.135516</td>\n",
       "      <td>215.345819</td>\n",
       "      <td>-0.0</td>\n",
       "    </tr>\n",
       "    <tr>\n",
       "      <th>6318</th>\n",
       "      <td>1.00</td>\n",
       "      <td>3</td>\n",
       "      <td>0.2</td>\n",
       "      <td>0.5</td>\n",
       "      <td>6</td>\n",
       "      <td>6113.9911</td>\n",
       "      <td>3953.7351</td>\n",
       "      <td>0.327138</td>\n",
       "      <td>269</td>\n",
       "      <td>154304</td>\n",
       "      <td>...</td>\n",
       "      <td>866.968226</td>\n",
       "      <td>146.817850</td>\n",
       "      <td>580.338015</td>\n",
       "      <td>-252.560417</td>\n",
       "      <td>2.500610</td>\n",
       "      <td>216.960105</td>\n",
       "      <td>0.0</td>\n",
       "      <td>2.808894</td>\n",
       "      <td>169.560066</td>\n",
       "      <td>0.0</td>\n",
       "    </tr>\n",
       "    <tr>\n",
       "      <th>7057</th>\n",
       "      <td>1.00</td>\n",
       "      <td>7</td>\n",
       "      <td>0.3</td>\n",
       "      <td>0.3</td>\n",
       "      <td>10</td>\n",
       "      <td>4192.0925</td>\n",
       "      <td>1997.2005</td>\n",
       "      <td>0.294278</td>\n",
       "      <td>367</td>\n",
       "      <td>156778</td>\n",
       "      <td>...</td>\n",
       "      <td>834.951742</td>\n",
       "      <td>98.758725</td>\n",
       "      <td>548.864653</td>\n",
       "      <td>-215.176914</td>\n",
       "      <td>1.713156</td>\n",
       "      <td>222.711887</td>\n",
       "      <td>0.0</td>\n",
       "      <td>-0.477482</td>\n",
       "      <td>173.888204</td>\n",
       "      <td>-0.0</td>\n",
       "    </tr>\n",
       "  </tbody>\n",
       "</table>\n",
       "<p>162 rows × 24 columns</p>\n",
       "</div>"
      ],
      "text/plain": [
       "      day_net_change  rvol  pullback  sl_prc  reward        PnL     NetPnL  \\\n",
       "4814            0.75    10       0.1     0.2       6   845.2809   375.0489   \n",
       "6981            1.00     7       0.1     0.3       5  2256.8515  1782.2375   \n",
       "6753            1.00     5       0.1     0.5      10  1142.2071   518.3251   \n",
       "6761            1.00     5       0.2     0.1      10  3254.0004  1519.5404   \n",
       "6769            1.00     5       0.2     0.2      10  2149.2703   730.0763   \n",
       "...              ...   ...       ...     ...     ...        ...        ...   \n",
       "6310            1.00     3       0.2     0.4       6  2478.7442   314.9042   \n",
       "6311            1.00     3       0.2     0.4       8  9158.5202  6998.2642   \n",
       "6313            1.00     3       0.2     0.5      10  3347.1711  1199.1931   \n",
       "6318            1.00     3       0.2     0.5       6  6113.9911  3953.7351   \n",
       "7057            1.00     7       0.3     0.3      10  4192.0925  1997.2005   \n",
       "\n",
       "       winrate  total_trades  total_volume  ...   std_profit    std_loss  \\\n",
       "4814  0.275000            80         33588  ...   494.044102   46.585715   \n",
       "6981  0.294872            78         33901  ...   603.589891  107.019638   \n",
       "6753  0.275862            87         44563  ...  1368.134680  159.993131   \n",
       "6761  0.173745           259        123890  ...   427.269267   12.006016   \n",
       "6769  0.261603           237        101371  ...   651.219973   50.961313   \n",
       "...        ...           ...           ...  ...          ...         ...   \n",
       "6310  0.325926           270        154560  ...   718.002210  128.503140   \n",
       "6311  0.327138           269        154304  ...   918.516012  128.821780   \n",
       "6313  0.323308           266        153427  ...   981.603187  146.932210   \n",
       "6318  0.327138           269        154304  ...   866.968226  146.817850   \n",
       "7057  0.294278           367        156778  ...   834.951742   98.758725   \n",
       "\n",
       "      avg_profit    avg_loss  avg_day_profit  std_day_profit  cagr    sharpe  \\\n",
       "4814  496.924545 -176.965949        0.348857       71.675528   0.0  5.503406   \n",
       "6981  592.934370 -210.752574        0.928363       90.318139   0.0  5.555871   \n",
       "6753  692.583400 -249.674105        0.469851      157.423880   0.0  0.738293   \n",
       "6761  533.675778  -97.471407        1.330335       97.364653   0.0 -6.291470   \n",
       "6769  524.011800 -176.392217        0.879047      141.820346   0.0  1.458389   \n",
       "...          ...         ...             ...             ...   ...       ...   \n",
       "6310  525.873560 -244.682285        1.013801      189.664093   0.0 -6.896314   \n",
       "6311  598.492833 -244.431737        3.745816      224.749019   0.0  2.128856   \n",
       "6313  560.175410 -253.265052        1.368986      229.465070   0.0 -3.135516   \n",
       "6318  580.338015 -252.560417        2.500610      216.960105   0.0  2.808894   \n",
       "7057  548.864653 -215.176914        1.713156      222.711887   0.0 -0.477482   \n",
       "\n",
       "           ulcer  score  \n",
       "4814   66.034890    0.0  \n",
       "6981  470.138250    0.0  \n",
       "6753  534.096112    0.0  \n",
       "6761   95.551247   -0.0  \n",
       "6769  264.100762    0.0  \n",
       "...          ...    ...  \n",
       "6310  168.051745   -0.0  \n",
       "6311  157.188661    0.0  \n",
       "6313  215.345819   -0.0  \n",
       "6318  169.560066    0.0  \n",
       "7057  173.888204   -0.0  \n",
       "\n",
       "[162 rows x 24 columns]"
      ]
     },
     "execution_count": 15,
     "metadata": {},
     "output_type": "execute_result"
    }
   ],
   "source": [
    "top = stats[stats['NetPnL'] > 0].sort_values('score', ascending=False)\n",
    "top"
   ]
  },
  {
   "cell_type": "code",
   "execution_count": 16,
   "metadata": {},
   "outputs": [
    {
     "data": {
      "application/vnd.plotly.v1+json": {
       "config": {
        "plotlyServerURL": "https://plot.ly"
       },
       "data": [
        {
         "name": "PnL",
         "type": "scatter",
         "x": [
          "2018-05-22T03:00:00.000000000",
          "2018-06-01T03:00:00.000000000",
          "2018-06-29T03:00:00.000000000",
          "2018-09-05T03:00:00.000000000",
          "2018-09-25T03:00:00.000000000",
          "2018-10-03T03:00:00.000000000",
          "2019-03-11T02:00:00.000000000",
          "2019-03-14T02:00:00.000000000",
          "2019-03-19T02:00:00.000000000",
          "2019-03-27T02:00:00.000000000",
          "2019-05-17T03:00:00.000000000",
          "2019-08-12T03:00:00.000000000",
          "2019-08-21T03:00:00.000000000",
          "2019-09-04T03:00:00.000000000",
          "2020-02-25T02:00:00.000000000",
          "2020-05-12T03:00:00.000000000",
          "2020-05-20T03:00:00.000000000",
          "2020-07-24T03:00:00.000000000",
          "2020-07-29T03:00:00.000000000",
          "2020-08-11T03:00:00.000000000",
          "2020-08-21T03:00:00.000000000",
          "2020-09-28T03:00:00.000000000",
          "2020-12-01T02:00:00.000000000",
          "2020-12-23T02:00:00.000000000",
          "2021-01-11T02:00:00.000000000",
          "2021-01-20T02:00:00.000000000",
          "2021-06-14T03:00:00.000000000",
          "2021-07-07T03:00:00.000000000",
          "2021-07-21T03:00:00.000000000",
          "2021-07-23T03:00:00.000000000",
          "2021-08-20T03:00:00.000000000",
          "2021-09-23T03:00:00.000000000",
          "2021-10-05T03:00:00.000000000",
          "2021-10-22T03:00:00.000000000",
          "2022-01-04T02:00:00.000000000",
          "2022-03-08T02:00:00.000000000",
          "2022-04-12T03:00:00.000000000",
          "2022-05-31T03:00:00.000000000",
          "2022-07-12T03:00:00.000000000",
          "2022-08-05T03:00:00.000000000",
          "2022-10-04T03:00:00.000000000",
          "2023-01-06T02:00:00.000000000",
          "2023-03-17T02:00:00.000000000",
          "2023-03-29T03:00:00.000000000",
          "2023-04-05T03:00:00.000000000",
          "2023-04-21T03:00:00.000000000",
          "2023-05-10T03:00:00.000000000",
          "2023-05-17T03:00:00.000000000",
          "2023-07-14T03:00:00.000000000",
          "2023-12-07T02:00:00.000000000",
          "2023-12-13T02:00:00.000000000",
          "2023-12-21T02:00:00.000000000",
          "2023-12-27T02:00:00.000000000",
          "2024-02-06T02:00:00.000000000",
          "2024-03-13T02:00:00.000000000",
          "2024-03-22T02:00:00.000000000",
          "2024-03-26T02:00:00.000000000",
          "2024-04-08T03:00:00.000000000",
          "2024-05-29T03:00:00.000000000",
          "2024-07-10T03:00:00.000000000",
          "2024-07-12T03:00:00.000000000",
          "2024-07-16T03:00:00.000000000",
          "2024-07-30T03:00:00.000000000",
          "2024-07-31T03:00:00.000000000",
          "2024-08-16T03:00:00.000000000",
          "2024-08-22T03:00:00.000000000",
          "2024-08-22T03:00:00.000000000",
          "2024-08-30T03:00:00.000000000",
          "2024-09-25T03:00:00.000000000",
          "2024-10-09T03:00:00.000000000",
          "2024-10-24T03:00:00.000000000",
          "2024-10-25T03:00:00.000000000",
          "2024-10-30T02:00:00.000000000",
          "2024-11-22T02:00:00.000000000",
          "2024-11-25T02:00:00.000000000",
          "2024-11-26T02:00:00.000000000",
          "2024-12-12T02:00:00.000000000",
          "2024-12-24T02:00:00.000000000",
          "2025-01-06T02:00:00.000000000",
          "2025-01-07T02:00:00.000000000"
         ],
         "xaxis": "x",
         "y": [
          -208.98000000000005,
          -302.4360000000002,
          -506.8440000000003,
          -568.1880000000002,
          -564.5540000000002,
          628.6500000000002,
          933.3540000000003,
          731.9640000000003,
          504.48800000000017,
          304.19000000000017,
          485.3420000000001,
          1163.0720000000001,
          959.7200000000001,
          757.5320000000002,
          900.5480000000001,
          737.2940000000001,
          535.172,
          332.804,
          1525.154,
          1319.564,
          1112.8020000000001,
          904.5420000000003,
          704.0140000000002,
          1892.0580000000004,
          1687.2900000000004,
          1611.6060000000002,
          1409.5740000000003,
          1309.3500000000004,
          2505.8200000000006,
          2302.8200000000006,
          2101.464000000001,
          2071.7840000000006,
          1931.8880000000006,
          3125.764000000001,
          2922.568000000001,
          2721.6560000000013,
          2519.912000000001,
          2371.434000000001,
          2230.458000000001,
          2014.074000000001,
          2007.102000000001,
          1802.014000000001,
          1599.366000000001,
          1634.1180000000008,
          1856.9340000000009,
          1736.898000000001,
          1527.198000000001,
          1588.862000000001,
          1379.9260000000008,
          1178.5260000000007,
          2120.286000000001,
          1912.8600000000008,
          1710.1200000000008,
          1498.9480000000008,
          1284.7480000000007,
          1211.0520000000008,
          1005.0540000000008,
          800.1240000000007,
          573.9750000000006,
          1078.4890000000005,
          875.0850000000004,
          664.8450000000004,
          768.6630000000002,
          558.8710000000002,
          353.8910000000002,
          294.2310000000002,
          482.78300000000024,
          273.50300000000027,
          65.55900000000022,
          -139.49699999999973,
          -357.39509999999984,
          -562.3550999999999,
          -815.2130999999999,
          -806.5810999999999,
          396.2809000000002,
          662.6249000000003,
          432.21690000000024,
          454.68090000000024,
          483.61890000000017,
          349.5549000000002
         ],
         "yaxis": "y"
        },
        {
         "name": "Drawdown",
         "type": "bar",
         "x": [
          "2018-05-22T03:00:00.000000000",
          "2018-06-01T03:00:00.000000000",
          "2018-06-29T03:00:00.000000000",
          "2018-09-05T03:00:00.000000000",
          "2018-09-25T03:00:00.000000000",
          "2018-10-03T03:00:00.000000000",
          "2019-03-11T02:00:00.000000000",
          "2019-03-14T02:00:00.000000000",
          "2019-03-19T02:00:00.000000000",
          "2019-03-27T02:00:00.000000000",
          "2019-05-17T03:00:00.000000000",
          "2019-08-12T03:00:00.000000000",
          "2019-08-21T03:00:00.000000000",
          "2019-09-04T03:00:00.000000000",
          "2020-02-25T02:00:00.000000000",
          "2020-05-12T03:00:00.000000000",
          "2020-05-20T03:00:00.000000000",
          "2020-07-24T03:00:00.000000000",
          "2020-07-29T03:00:00.000000000",
          "2020-08-11T03:00:00.000000000",
          "2020-08-21T03:00:00.000000000",
          "2020-09-28T03:00:00.000000000",
          "2020-12-01T02:00:00.000000000",
          "2020-12-23T02:00:00.000000000",
          "2021-01-11T02:00:00.000000000",
          "2021-01-20T02:00:00.000000000",
          "2021-06-14T03:00:00.000000000",
          "2021-07-07T03:00:00.000000000",
          "2021-07-21T03:00:00.000000000",
          "2021-07-23T03:00:00.000000000",
          "2021-08-20T03:00:00.000000000",
          "2021-09-23T03:00:00.000000000",
          "2021-10-05T03:00:00.000000000",
          "2021-10-22T03:00:00.000000000",
          "2022-01-04T02:00:00.000000000",
          "2022-03-08T02:00:00.000000000",
          "2022-04-12T03:00:00.000000000",
          "2022-05-31T03:00:00.000000000",
          "2022-07-12T03:00:00.000000000",
          "2022-08-05T03:00:00.000000000",
          "2022-10-04T03:00:00.000000000",
          "2023-01-06T02:00:00.000000000",
          "2023-03-17T02:00:00.000000000",
          "2023-03-29T03:00:00.000000000",
          "2023-04-05T03:00:00.000000000",
          "2023-04-21T03:00:00.000000000",
          "2023-05-10T03:00:00.000000000",
          "2023-05-17T03:00:00.000000000",
          "2023-07-14T03:00:00.000000000",
          "2023-12-07T02:00:00.000000000",
          "2023-12-13T02:00:00.000000000",
          "2023-12-21T02:00:00.000000000",
          "2023-12-27T02:00:00.000000000",
          "2024-02-06T02:00:00.000000000",
          "2024-03-13T02:00:00.000000000",
          "2024-03-22T02:00:00.000000000",
          "2024-03-26T02:00:00.000000000",
          "2024-04-08T03:00:00.000000000",
          "2024-05-29T03:00:00.000000000",
          "2024-07-10T03:00:00.000000000",
          "2024-07-12T03:00:00.000000000",
          "2024-07-16T03:00:00.000000000",
          "2024-07-30T03:00:00.000000000",
          "2024-07-31T03:00:00.000000000",
          "2024-08-16T03:00:00.000000000",
          "2024-08-22T03:00:00.000000000",
          "2024-08-22T03:00:00.000000000",
          "2024-08-30T03:00:00.000000000",
          "2024-09-25T03:00:00.000000000",
          "2024-10-09T03:00:00.000000000",
          "2024-10-24T03:00:00.000000000",
          "2024-10-25T03:00:00.000000000",
          "2024-10-30T02:00:00.000000000",
          "2024-11-22T02:00:00.000000000",
          "2024-11-25T02:00:00.000000000",
          "2024-11-26T02:00:00.000000000",
          "2024-12-12T02:00:00.000000000",
          "2024-12-24T02:00:00.000000000",
          "2025-01-06T02:00:00.000000000",
          "2025-01-07T02:00:00.000000000"
         ],
         "xaxis": "x2",
         "y": [
          0,
          92.07000000000016,
          291.80200000000025,
          347.18200000000024,
          342.44200000000023,
          0,
          0,
          199.332,
          399.35400000000004,
          598.854,
          409.4140000000001,
          0,
          200.14599999999996,
          400.0099999999999,
          248.50999999999988,
          409.5099999999999,
          609.2379999999999,
          809.702,
          0,
          200.20000000000005,
          400.20000000000005,
          600.27,
          799.636,
          0,
          200.23199999999997,
          275.202,
          475.3019999999999,
          574.1819999999998,
          0,
          200.1579999999999,
          399.52599999999984,
          428.92599999999993,
          568.4159999999997,
          0,
          199.75199999999995,
          399.85199999999986,
          600.5879999999997,
          743.5079999999998,
          883.8679999999999,
          1083.788,
          1083.788,
          1283.598,
          1484.202,
          1449.002,
          1223.232,
          1323.262,
          1523.176,
          1459.216,
          1659.234,
          1859.234,
          912.4340000000002,
          1112.2580000000003,
          1312.8280000000002,
          1512.7160000000001,
          1712.6360000000002,
          1781.726,
          1981.8860000000002,
          2181.986,
          2381.969,
          1875.3690000000001,
          2075.3990000000003,
          2275.4190000000003,
          2169.599,
          2369.5350000000003,
          2569.3350000000005,
          2626.3350000000005,
          2435.2350000000006,
          2635.3590000000004,
          2835.5190000000007,
          3035.5910000000003,
          3234.9671000000008,
          3434.8031000000005,
          3634.825100000001,
          3621.5451000000007,
          2417.3811000000005,
          2148.6711000000005,
          2374.2211000000007,
          2349.7411000000006,
          2320.061100000001,
          2451.731100000001
         ],
         "yaxis": "y2"
        },
        {
         "name": "Winrate",
         "type": "scatter",
         "x": [
          "2018-05-22T03:00:00.000000000",
          "2018-06-01T03:00:00.000000000",
          "2018-06-29T03:00:00.000000000",
          "2018-09-05T03:00:00.000000000",
          "2018-09-25T03:00:00.000000000",
          "2018-10-03T03:00:00.000000000",
          "2019-03-11T02:00:00.000000000",
          "2019-03-14T02:00:00.000000000",
          "2019-03-19T02:00:00.000000000",
          "2019-03-27T02:00:00.000000000",
          "2019-05-17T03:00:00.000000000",
          "2019-08-12T03:00:00.000000000",
          "2019-08-21T03:00:00.000000000",
          "2019-09-04T03:00:00.000000000",
          "2020-02-25T02:00:00.000000000",
          "2020-05-12T03:00:00.000000000",
          "2020-05-20T03:00:00.000000000",
          "2020-07-24T03:00:00.000000000",
          "2020-07-29T03:00:00.000000000",
          "2020-08-11T03:00:00.000000000",
          "2020-08-21T03:00:00.000000000",
          "2020-09-28T03:00:00.000000000",
          "2020-12-01T02:00:00.000000000",
          "2020-12-23T02:00:00.000000000",
          "2021-01-11T02:00:00.000000000",
          "2021-01-20T02:00:00.000000000",
          "2021-06-14T03:00:00.000000000",
          "2021-07-07T03:00:00.000000000",
          "2021-07-21T03:00:00.000000000",
          "2021-07-23T03:00:00.000000000",
          "2021-08-20T03:00:00.000000000",
          "2021-09-23T03:00:00.000000000",
          "2021-10-05T03:00:00.000000000",
          "2021-10-22T03:00:00.000000000",
          "2022-01-04T02:00:00.000000000",
          "2022-03-08T02:00:00.000000000",
          "2022-04-12T03:00:00.000000000",
          "2022-05-31T03:00:00.000000000",
          "2022-07-12T03:00:00.000000000",
          "2022-08-05T03:00:00.000000000",
          "2022-10-04T03:00:00.000000000",
          "2023-01-06T02:00:00.000000000",
          "2023-03-17T02:00:00.000000000",
          "2023-03-29T03:00:00.000000000",
          "2023-04-05T03:00:00.000000000",
          "2023-04-21T03:00:00.000000000",
          "2023-05-10T03:00:00.000000000",
          "2023-05-17T03:00:00.000000000",
          "2023-07-14T03:00:00.000000000",
          "2023-12-07T02:00:00.000000000",
          "2023-12-13T02:00:00.000000000",
          "2023-12-21T02:00:00.000000000",
          "2023-12-27T02:00:00.000000000",
          "2024-02-06T02:00:00.000000000",
          "2024-03-13T02:00:00.000000000",
          "2024-03-22T02:00:00.000000000",
          "2024-03-26T02:00:00.000000000",
          "2024-04-08T03:00:00.000000000",
          "2024-05-29T03:00:00.000000000",
          "2024-07-10T03:00:00.000000000",
          "2024-07-12T03:00:00.000000000",
          "2024-07-16T03:00:00.000000000",
          "2024-07-30T03:00:00.000000000",
          "2024-07-31T03:00:00.000000000",
          "2024-08-16T03:00:00.000000000",
          "2024-08-22T03:00:00.000000000",
          "2024-08-22T03:00:00.000000000",
          "2024-08-30T03:00:00.000000000",
          "2024-09-25T03:00:00.000000000",
          "2024-10-09T03:00:00.000000000",
          "2024-10-24T03:00:00.000000000",
          "2024-10-25T03:00:00.000000000",
          "2024-10-30T02:00:00.000000000",
          "2024-11-22T02:00:00.000000000",
          "2024-11-25T02:00:00.000000000",
          "2024-11-26T02:00:00.000000000",
          "2024-12-12T02:00:00.000000000",
          "2024-12-24T02:00:00.000000000",
          "2025-01-06T02:00:00.000000000",
          "2025-01-07T02:00:00.000000000"
         ],
         "xaxis": "x3",
         "y": [
          null,
          null,
          null,
          null,
          null,
          null,
          null,
          null,
          null,
          null,
          null,
          null,
          null,
          null,
          null,
          null,
          null,
          null,
          null,
          null,
          null,
          null,
          null,
          null,
          null,
          null,
          null,
          null,
          null,
          null,
          null,
          null,
          null,
          null,
          null,
          null,
          null,
          null,
          null,
          null,
          null,
          null,
          null,
          null,
          null,
          null,
          null,
          null,
          null,
          null,
          null,
          null,
          null,
          null,
          null,
          null,
          null,
          null,
          null,
          null,
          null,
          null,
          null,
          null,
          null,
          null,
          null,
          null,
          null,
          null,
          null,
          null,
          null,
          null,
          null,
          null,
          null,
          null,
          null,
          null
         ],
         "yaxis": "y3"
        }
       ],
       "layout": {
        "template": {
         "data": {
          "bar": [
           {
            "error_x": {
             "color": "#2a3f5f"
            },
            "error_y": {
             "color": "#2a3f5f"
            },
            "marker": {
             "line": {
              "color": "#E5ECF6",
              "width": 0.5
             },
             "pattern": {
              "fillmode": "overlay",
              "size": 10,
              "solidity": 0.2
             }
            },
            "type": "bar"
           }
          ],
          "barpolar": [
           {
            "marker": {
             "line": {
              "color": "#E5ECF6",
              "width": 0.5
             },
             "pattern": {
              "fillmode": "overlay",
              "size": 10,
              "solidity": 0.2
             }
            },
            "type": "barpolar"
           }
          ],
          "carpet": [
           {
            "aaxis": {
             "endlinecolor": "#2a3f5f",
             "gridcolor": "white",
             "linecolor": "white",
             "minorgridcolor": "white",
             "startlinecolor": "#2a3f5f"
            },
            "baxis": {
             "endlinecolor": "#2a3f5f",
             "gridcolor": "white",
             "linecolor": "white",
             "minorgridcolor": "white",
             "startlinecolor": "#2a3f5f"
            },
            "type": "carpet"
           }
          ],
          "choropleth": [
           {
            "colorbar": {
             "outlinewidth": 0,
             "ticks": ""
            },
            "type": "choropleth"
           }
          ],
          "contour": [
           {
            "colorbar": {
             "outlinewidth": 0,
             "ticks": ""
            },
            "colorscale": [
             [
              0,
              "#0d0887"
             ],
             [
              0.1111111111111111,
              "#46039f"
             ],
             [
              0.2222222222222222,
              "#7201a8"
             ],
             [
              0.3333333333333333,
              "#9c179e"
             ],
             [
              0.4444444444444444,
              "#bd3786"
             ],
             [
              0.5555555555555556,
              "#d8576b"
             ],
             [
              0.6666666666666666,
              "#ed7953"
             ],
             [
              0.7777777777777778,
              "#fb9f3a"
             ],
             [
              0.8888888888888888,
              "#fdca26"
             ],
             [
              1,
              "#f0f921"
             ]
            ],
            "type": "contour"
           }
          ],
          "contourcarpet": [
           {
            "colorbar": {
             "outlinewidth": 0,
             "ticks": ""
            },
            "type": "contourcarpet"
           }
          ],
          "heatmap": [
           {
            "colorbar": {
             "outlinewidth": 0,
             "ticks": ""
            },
            "colorscale": [
             [
              0,
              "#0d0887"
             ],
             [
              0.1111111111111111,
              "#46039f"
             ],
             [
              0.2222222222222222,
              "#7201a8"
             ],
             [
              0.3333333333333333,
              "#9c179e"
             ],
             [
              0.4444444444444444,
              "#bd3786"
             ],
             [
              0.5555555555555556,
              "#d8576b"
             ],
             [
              0.6666666666666666,
              "#ed7953"
             ],
             [
              0.7777777777777778,
              "#fb9f3a"
             ],
             [
              0.8888888888888888,
              "#fdca26"
             ],
             [
              1,
              "#f0f921"
             ]
            ],
            "type": "heatmap"
           }
          ],
          "heatmapgl": [
           {
            "colorbar": {
             "outlinewidth": 0,
             "ticks": ""
            },
            "colorscale": [
             [
              0,
              "#0d0887"
             ],
             [
              0.1111111111111111,
              "#46039f"
             ],
             [
              0.2222222222222222,
              "#7201a8"
             ],
             [
              0.3333333333333333,
              "#9c179e"
             ],
             [
              0.4444444444444444,
              "#bd3786"
             ],
             [
              0.5555555555555556,
              "#d8576b"
             ],
             [
              0.6666666666666666,
              "#ed7953"
             ],
             [
              0.7777777777777778,
              "#fb9f3a"
             ],
             [
              0.8888888888888888,
              "#fdca26"
             ],
             [
              1,
              "#f0f921"
             ]
            ],
            "type": "heatmapgl"
           }
          ],
          "histogram": [
           {
            "marker": {
             "pattern": {
              "fillmode": "overlay",
              "size": 10,
              "solidity": 0.2
             }
            },
            "type": "histogram"
           }
          ],
          "histogram2d": [
           {
            "colorbar": {
             "outlinewidth": 0,
             "ticks": ""
            },
            "colorscale": [
             [
              0,
              "#0d0887"
             ],
             [
              0.1111111111111111,
              "#46039f"
             ],
             [
              0.2222222222222222,
              "#7201a8"
             ],
             [
              0.3333333333333333,
              "#9c179e"
             ],
             [
              0.4444444444444444,
              "#bd3786"
             ],
             [
              0.5555555555555556,
              "#d8576b"
             ],
             [
              0.6666666666666666,
              "#ed7953"
             ],
             [
              0.7777777777777778,
              "#fb9f3a"
             ],
             [
              0.8888888888888888,
              "#fdca26"
             ],
             [
              1,
              "#f0f921"
             ]
            ],
            "type": "histogram2d"
           }
          ],
          "histogram2dcontour": [
           {
            "colorbar": {
             "outlinewidth": 0,
             "ticks": ""
            },
            "colorscale": [
             [
              0,
              "#0d0887"
             ],
             [
              0.1111111111111111,
              "#46039f"
             ],
             [
              0.2222222222222222,
              "#7201a8"
             ],
             [
              0.3333333333333333,
              "#9c179e"
             ],
             [
              0.4444444444444444,
              "#bd3786"
             ],
             [
              0.5555555555555556,
              "#d8576b"
             ],
             [
              0.6666666666666666,
              "#ed7953"
             ],
             [
              0.7777777777777778,
              "#fb9f3a"
             ],
             [
              0.8888888888888888,
              "#fdca26"
             ],
             [
              1,
              "#f0f921"
             ]
            ],
            "type": "histogram2dcontour"
           }
          ],
          "mesh3d": [
           {
            "colorbar": {
             "outlinewidth": 0,
             "ticks": ""
            },
            "type": "mesh3d"
           }
          ],
          "parcoords": [
           {
            "line": {
             "colorbar": {
              "outlinewidth": 0,
              "ticks": ""
             }
            },
            "type": "parcoords"
           }
          ],
          "pie": [
           {
            "automargin": true,
            "type": "pie"
           }
          ],
          "scatter": [
           {
            "fillpattern": {
             "fillmode": "overlay",
             "size": 10,
             "solidity": 0.2
            },
            "type": "scatter"
           }
          ],
          "scatter3d": [
           {
            "line": {
             "colorbar": {
              "outlinewidth": 0,
              "ticks": ""
             }
            },
            "marker": {
             "colorbar": {
              "outlinewidth": 0,
              "ticks": ""
             }
            },
            "type": "scatter3d"
           }
          ],
          "scattercarpet": [
           {
            "marker": {
             "colorbar": {
              "outlinewidth": 0,
              "ticks": ""
             }
            },
            "type": "scattercarpet"
           }
          ],
          "scattergeo": [
           {
            "marker": {
             "colorbar": {
              "outlinewidth": 0,
              "ticks": ""
             }
            },
            "type": "scattergeo"
           }
          ],
          "scattergl": [
           {
            "marker": {
             "colorbar": {
              "outlinewidth": 0,
              "ticks": ""
             }
            },
            "type": "scattergl"
           }
          ],
          "scattermapbox": [
           {
            "marker": {
             "colorbar": {
              "outlinewidth": 0,
              "ticks": ""
             }
            },
            "type": "scattermapbox"
           }
          ],
          "scatterpolar": [
           {
            "marker": {
             "colorbar": {
              "outlinewidth": 0,
              "ticks": ""
             }
            },
            "type": "scatterpolar"
           }
          ],
          "scatterpolargl": [
           {
            "marker": {
             "colorbar": {
              "outlinewidth": 0,
              "ticks": ""
             }
            },
            "type": "scatterpolargl"
           }
          ],
          "scatterternary": [
           {
            "marker": {
             "colorbar": {
              "outlinewidth": 0,
              "ticks": ""
             }
            },
            "type": "scatterternary"
           }
          ],
          "surface": [
           {
            "colorbar": {
             "outlinewidth": 0,
             "ticks": ""
            },
            "colorscale": [
             [
              0,
              "#0d0887"
             ],
             [
              0.1111111111111111,
              "#46039f"
             ],
             [
              0.2222222222222222,
              "#7201a8"
             ],
             [
              0.3333333333333333,
              "#9c179e"
             ],
             [
              0.4444444444444444,
              "#bd3786"
             ],
             [
              0.5555555555555556,
              "#d8576b"
             ],
             [
              0.6666666666666666,
              "#ed7953"
             ],
             [
              0.7777777777777778,
              "#fb9f3a"
             ],
             [
              0.8888888888888888,
              "#fdca26"
             ],
             [
              1,
              "#f0f921"
             ]
            ],
            "type": "surface"
           }
          ],
          "table": [
           {
            "cells": {
             "fill": {
              "color": "#EBF0F8"
             },
             "line": {
              "color": "white"
             }
            },
            "header": {
             "fill": {
              "color": "#C8D4E3"
             },
             "line": {
              "color": "white"
             }
            },
            "type": "table"
           }
          ]
         },
         "layout": {
          "annotationdefaults": {
           "arrowcolor": "#2a3f5f",
           "arrowhead": 0,
           "arrowwidth": 1
          },
          "autotypenumbers": "strict",
          "coloraxis": {
           "colorbar": {
            "outlinewidth": 0,
            "ticks": ""
           }
          },
          "colorscale": {
           "diverging": [
            [
             0,
             "#8e0152"
            ],
            [
             0.1,
             "#c51b7d"
            ],
            [
             0.2,
             "#de77ae"
            ],
            [
             0.3,
             "#f1b6da"
            ],
            [
             0.4,
             "#fde0ef"
            ],
            [
             0.5,
             "#f7f7f7"
            ],
            [
             0.6,
             "#e6f5d0"
            ],
            [
             0.7,
             "#b8e186"
            ],
            [
             0.8,
             "#7fbc41"
            ],
            [
             0.9,
             "#4d9221"
            ],
            [
             1,
             "#276419"
            ]
           ],
           "sequential": [
            [
             0,
             "#0d0887"
            ],
            [
             0.1111111111111111,
             "#46039f"
            ],
            [
             0.2222222222222222,
             "#7201a8"
            ],
            [
             0.3333333333333333,
             "#9c179e"
            ],
            [
             0.4444444444444444,
             "#bd3786"
            ],
            [
             0.5555555555555556,
             "#d8576b"
            ],
            [
             0.6666666666666666,
             "#ed7953"
            ],
            [
             0.7777777777777778,
             "#fb9f3a"
            ],
            [
             0.8888888888888888,
             "#fdca26"
            ],
            [
             1,
             "#f0f921"
            ]
           ],
           "sequentialminus": [
            [
             0,
             "#0d0887"
            ],
            [
             0.1111111111111111,
             "#46039f"
            ],
            [
             0.2222222222222222,
             "#7201a8"
            ],
            [
             0.3333333333333333,
             "#9c179e"
            ],
            [
             0.4444444444444444,
             "#bd3786"
            ],
            [
             0.5555555555555556,
             "#d8576b"
            ],
            [
             0.6666666666666666,
             "#ed7953"
            ],
            [
             0.7777777777777778,
             "#fb9f3a"
            ],
            [
             0.8888888888888888,
             "#fdca26"
            ],
            [
             1,
             "#f0f921"
            ]
           ]
          },
          "colorway": [
           "#636efa",
           "#EF553B",
           "#00cc96",
           "#ab63fa",
           "#FFA15A",
           "#19d3f3",
           "#FF6692",
           "#B6E880",
           "#FF97FF",
           "#FECB52"
          ],
          "font": {
           "color": "#2a3f5f"
          },
          "geo": {
           "bgcolor": "white",
           "lakecolor": "white",
           "landcolor": "#E5ECF6",
           "showlakes": true,
           "showland": true,
           "subunitcolor": "white"
          },
          "hoverlabel": {
           "align": "left"
          },
          "hovermode": "closest",
          "mapbox": {
           "style": "light"
          },
          "paper_bgcolor": "white",
          "plot_bgcolor": "#E5ECF6",
          "polar": {
           "angularaxis": {
            "gridcolor": "white",
            "linecolor": "white",
            "ticks": ""
           },
           "bgcolor": "#E5ECF6",
           "radialaxis": {
            "gridcolor": "white",
            "linecolor": "white",
            "ticks": ""
           }
          },
          "scene": {
           "xaxis": {
            "backgroundcolor": "#E5ECF6",
            "gridcolor": "white",
            "gridwidth": 2,
            "linecolor": "white",
            "showbackground": true,
            "ticks": "",
            "zerolinecolor": "white"
           },
           "yaxis": {
            "backgroundcolor": "#E5ECF6",
            "gridcolor": "white",
            "gridwidth": 2,
            "linecolor": "white",
            "showbackground": true,
            "ticks": "",
            "zerolinecolor": "white"
           },
           "zaxis": {
            "backgroundcolor": "#E5ECF6",
            "gridcolor": "white",
            "gridwidth": 2,
            "linecolor": "white",
            "showbackground": true,
            "ticks": "",
            "zerolinecolor": "white"
           }
          },
          "shapedefaults": {
           "line": {
            "color": "#2a3f5f"
           }
          },
          "ternary": {
           "aaxis": {
            "gridcolor": "white",
            "linecolor": "white",
            "ticks": ""
           },
           "baxis": {
            "gridcolor": "white",
            "linecolor": "white",
            "ticks": ""
           },
           "bgcolor": "#E5ECF6",
           "caxis": {
            "gridcolor": "white",
            "linecolor": "white",
            "ticks": ""
           }
          },
          "title": {
           "x": 0.05
          },
          "xaxis": {
           "automargin": true,
           "gridcolor": "white",
           "linecolor": "white",
           "ticks": "",
           "title": {
            "standoff": 15
           },
           "zerolinecolor": "white",
           "zerolinewidth": 2
          },
          "yaxis": {
           "automargin": true,
           "gridcolor": "white",
           "linecolor": "white",
           "ticks": "",
           "title": {
            "standoff": 15
           },
           "zerolinecolor": "white",
           "zerolinewidth": 2
          }
         }
        },
        "xaxis": {
         "anchor": "y",
         "domain": [
          0,
          1
         ]
        },
        "xaxis2": {
         "anchor": "y2",
         "domain": [
          0,
          1
         ]
        },
        "xaxis3": {
         "anchor": "y3",
         "domain": [
          0,
          1
         ]
        },
        "yaxis": {
         "anchor": "x",
         "domain": [
          0.424,
          1
         ]
        },
        "yaxis2": {
         "anchor": "x2",
         "domain": [
          0.212,
          0.364
         ]
        },
        "yaxis3": {
         "anchor": "x3",
         "domain": [
          0,
          0.152
         ]
        }
       }
      }
     },
     "metadata": {},
     "output_type": "display_data"
    }
   ],
   "source": [
    "plot_by_stats(top, 0)"
   ]
  },
  {
   "cell_type": "code",
   "execution_count": 29,
   "metadata": {},
   "outputs": [
    {
     "data": {
      "text/html": [
       "<div>\n",
       "<style scoped>\n",
       "    .dataframe tbody tr th:only-of-type {\n",
       "        vertical-align: middle;\n",
       "    }\n",
       "\n",
       "    .dataframe tbody tr th {\n",
       "        vertical-align: top;\n",
       "    }\n",
       "\n",
       "    .dataframe thead th {\n",
       "        text-align: right;\n",
       "    }\n",
       "</style>\n",
       "<table border=\"1\" class=\"dataframe\">\n",
       "  <thead>\n",
       "    <tr style=\"text-align: right;\">\n",
       "      <th></th>\n",
       "      <th>day_net_change</th>\n",
       "      <th>rvol</th>\n",
       "      <th>pullback</th>\n",
       "      <th>sl_prc</th>\n",
       "      <th>reward</th>\n",
       "      <th>PnL</th>\n",
       "      <th>NetPnL</th>\n",
       "      <th>winrate</th>\n",
       "      <th>total_trades</th>\n",
       "      <th>total_volume</th>\n",
       "      <th>max_lossing_streak</th>\n",
       "      <th>max_drawdown</th>\n",
       "      <th>max_used_bp</th>\n",
       "      <th>sqn</th>\n",
       "      <th>std_profit</th>\n",
       "      <th>std_loss</th>\n",
       "      <th>avg_profit</th>\n",
       "      <th>avg_loss</th>\n",
       "      <th>avg_day_profit</th>\n",
       "      <th>std_day_profit</th>\n",
       "    </tr>\n",
       "  </thead>\n",
       "  <tbody>\n",
       "    <tr>\n",
       "      <th>1616</th>\n",
       "      <td>0.3</td>\n",
       "      <td>3</td>\n",
       "      <td>0.5</td>\n",
       "      <td>0.3</td>\n",
       "      <td>1</td>\n",
       "      <td>-127355.5617</td>\n",
       "      <td>-194625.4497</td>\n",
       "      <td>0.387766</td>\n",
       "      <td>7177</td>\n",
       "      <td>4804992</td>\n",
       "      <td>17</td>\n",
       "      <td>128813.6858</td>\n",
       "      <td>53008.2537</td>\n",
       "      <td>-8.194411</td>\n",
       "      <td>121.531219</td>\n",
       "      <td>96.521109</td>\n",
       "      <td>169.267711</td>\n",
       "      <td>-137.950116</td>\n",
       "      <td>-52.045591</td>\n",
       "      <td>377.427551</td>\n",
       "    </tr>\n",
       "  </tbody>\n",
       "</table>\n",
       "</div>"
      ],
      "text/plain": [
       "      day_net_change  rvol  pullback  sl_prc  reward          PnL  \\\n",
       "1616             0.3     3       0.5     0.3       1 -127355.5617   \n",
       "\n",
       "           NetPnL   winrate  total_trades  total_volume  max_lossing_streak  \\\n",
       "1616 -194625.4497  0.387766          7177       4804992                  17   \n",
       "\n",
       "      max_drawdown  max_used_bp       sqn  std_profit   std_loss  avg_profit  \\\n",
       "1616   128813.6858   53008.2537 -8.194411  121.531219  96.521109  169.267711   \n",
       "\n",
       "        avg_loss  avg_day_profit  std_day_profit  \n",
       "1616 -137.950116      -52.045591      377.427551  "
      ]
     },
     "execution_count": 29,
     "metadata": {},
     "output_type": "execute_result"
    }
   ],
   "source": [
    "top.iloc[[7000]]"
   ]
  },
  {
   "cell_type": "code",
   "execution_count": null,
   "metadata": {},
   "outputs": [],
   "source": []
  }
 ],
 "metadata": {
  "kernelspec": {
   "display_name": "Python 3",
   "language": "python",
   "name": "python3"
  },
  "language_info": {
   "codemirror_mode": {
    "name": "ipython",
    "version": 3
   },
   "file_extension": ".py",
   "mimetype": "text/x-python",
   "name": "python",
   "nbconvert_exporter": "python",
   "pygments_lexer": "ipython3",
   "version": "3.12.8"
  }
 },
 "nbformat": 4,
 "nbformat_minor": 2
}
